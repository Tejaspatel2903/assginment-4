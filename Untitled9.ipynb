{
  "nbformat": 4,
  "nbformat_minor": 0,
  "metadata": {
    "colab": {
      "provenance": []
    },
    "kernelspec": {
      "name": "python3",
      "display_name": "Python 3"
    },
    "language_info": {
      "name": "python"
    }
  },
  "cells": [
    {
      "cell_type": "markdown",
      "source": [
        "1. What exactly is [ ]?\n",
        "\n",
        "Ans : - [ ] is a empty list, like a =[ ]"
      ],
      "metadata": {
        "id": "T5Hxd2Chx_DZ"
      }
    },
    {
      "cell_type": "markdown",
      "source": [
        "2. In a list of values stored in a variable called spam, how would you assign the value hello' as the third value? (Assume [2, 4, 6, 8, 10] are in spam.)"
      ],
      "metadata": {
        "id": "eRbgyredx-wy"
      }
    },
    {
      "cell_type": "code",
      "execution_count": 1,
      "metadata": {
        "colab": {
          "base_uri": "https://localhost:8080/"
        },
        "id": "zwOzxRIfxhHd",
        "outputId": "ec9afc4c-6327-467b-f58e-7fb1bc76fc3c"
      },
      "outputs": [
        {
          "output_type": "execute_result",
          "data": {
            "text/plain": [
              "[2, 4, 'hello', 8, 10]"
            ]
          },
          "metadata": {},
          "execution_count": 1
        }
      ],
      "source": [
        "# solution by changing the value in index 3\n",
        "spam = [2, 4, 6, 8, 10]\n",
        "spam[2] = 'hello'\n",
        "spam"
      ]
    },
    {
      "cell_type": "markdown",
      "source": [
        "Lets pretend the spam includes the list ['a', 'b','c','d'] for the next three queries."
      ],
      "metadata": {
        "id": "jvzZro74yNEe"
      }
    },
    {
      "cell_type": "markdown",
      "source": [
        "3. What is the value of spam[int(int(3 * 2) / 11)]?"
      ],
      "metadata": {
        "id": "lCbeqUETyP1I"
      }
    },
    {
      "cell_type": "code",
      "source": [
        "spam = ['a', 'b','c','d']\n",
        "spam[int(int('3' * 2) / 11)] # spam[int(33/11)] = spam[3]"
      ],
      "metadata": {
        "colab": {
          "base_uri": "https://localhost:8080/",
          "height": 36
        },
        "id": "wiRhhuZOyQ5f",
        "outputId": "9c2e51e8-965a-4d0c-ac46-1fa79d7e5655"
      },
      "execution_count": 2,
      "outputs": [
        {
          "output_type": "execute_result",
          "data": {
            "text/plain": [
              "'d'"
            ],
            "application/vnd.google.colaboratory.intrinsic+json": {
              "type": "string"
            }
          },
          "metadata": {},
          "execution_count": 2
        }
      ]
    },
    {
      "cell_type": "markdown",
      "source": [
        "5. What is the value of spam[-1]?"
      ],
      "metadata": {
        "id": "0n_Ntlyy5vQG"
      }
    },
    {
      "cell_type": "code",
      "source": [
        "spam = ['a', 'b','c','d']\n",
        "spam[-1] # negative index # d\n"
      ],
      "metadata": {
        "colab": {
          "base_uri": "https://localhost:8080/",
          "height": 36
        },
        "id": "Fy2gpdsz51lS",
        "outputId": "eed84a02-1381-45a1-fc7e-02faa12bed2e"
      },
      "execution_count": 26,
      "outputs": [
        {
          "output_type": "execute_result",
          "data": {
            "text/plain": [
              "'d'"
            ],
            "application/vnd.google.colaboratory.intrinsic+json": {
              "type": "string"
            }
          },
          "metadata": {},
          "execution_count": 26
        }
      ]
    },
    {
      "cell_type": "markdown",
      "source": [
        "5. What is the value of spam[:2]"
      ],
      "metadata": {
        "id": "FiTYb-DKylQV"
      }
    },
    {
      "cell_type": "code",
      "source": [
        "spam[:2] # c"
      ],
      "metadata": {
        "colab": {
          "base_uri": "https://localhost:8080/"
        },
        "id": "GUzvt77_yQ_f",
        "outputId": "51195536-780f-4bd4-a65f-e5dd03e49c42"
      },
      "execution_count": 3,
      "outputs": [
        {
          "output_type": "execute_result",
          "data": {
            "text/plain": [
              "['a', 'b']"
            ]
          },
          "metadata": {},
          "execution_count": 3
        }
      ]
    },
    {
      "cell_type": "markdown",
      "source": [
        "*Let's pretend bacon has the list [3.14, 'cat' 11, 'cat' True] for the next three questions.*"
      ],
      "metadata": {
        "id": "Ztsq_dkxyv1E"
      }
    },
    {
      "cell_type": "markdown",
      "source": [
        "6. What is the value of bacon.index('cat')?"
      ],
      "metadata": {
        "id": "rQQnQImUyyxO"
      }
    },
    {
      "cell_type": "code",
      "source": [
        "bacon = [3.14, 'cat', 11, 'cat', True]\n",
        "bacon.index('cat') # it returns the index of first occurrence of 'cat'"
      ],
      "metadata": {
        "colab": {
          "base_uri": "https://localhost:8080/"
        },
        "id": "3CsTzLztyRF9",
        "outputId": "0c276c52-ace4-4959-cae8-46d6b7c27dd6"
      },
      "execution_count": 4,
      "outputs": [
        {
          "output_type": "execute_result",
          "data": {
            "text/plain": [
              "1"
            ]
          },
          "metadata": {},
          "execution_count": 4
        }
      ]
    },
    {
      "cell_type": "markdown",
      "source": [
        "7. How does bacon.append(99) change the look of the list value in bacon?"
      ],
      "metadata": {
        "id": "Nwpp-ydRy6g1"
      }
    },
    {
      "cell_type": "code",
      "source": [
        "bacon = [3.14, 'cat', 11, 'cat', True]\n",
        "bacon.append(99) # append adds the item at the end of the list\n",
        "bacon\n",
        "     "
      ],
      "metadata": {
        "colab": {
          "base_uri": "https://localhost:8080/"
        },
        "id": "fszG4RNpySDC",
        "outputId": "7393b7f5-dd04-426e-b26b-23275fb960a0"
      },
      "execution_count": 5,
      "outputs": [
        {
          "output_type": "execute_result",
          "data": {
            "text/plain": [
              "[3.14, 'cat', 11, 'cat', True, 99]"
            ]
          },
          "metadata": {},
          "execution_count": 5
        }
      ]
    },
    {
      "cell_type": "markdown",
      "source": [
        "8. How does bacon.remove('cat') change the look of the list in bacon?"
      ],
      "metadata": {
        "id": "O7yiVWaszBAa"
      }
    },
    {
      "cell_type": "code",
      "source": [
        "bacon = [3.14, 'cat', 11, 'cat', True]\n",
        "bacon.remove('cat') # remove first occurrence of item\n",
        "bacon\n"
      ],
      "metadata": {
        "colab": {
          "base_uri": "https://localhost:8080/"
        },
        "id": "4QEIJLAlzBXc",
        "outputId": "f30a39eb-4d33-479b-ba24-d9eb0628639d"
      },
      "execution_count": 6,
      "outputs": [
        {
          "output_type": "execute_result",
          "data": {
            "text/plain": [
              "[3.14, 11, 'cat', True]"
            ]
          },
          "metadata": {},
          "execution_count": 6
        }
      ]
    },
    {
      "cell_type": "markdown",
      "source": [
        "9. What are the list concatenation and list replication operators?\n",
        "\n",
        "ans:- ( * ) is list replication operator ( + ) is list concatination operator\n",
        "\n"
      ],
      "metadata": {
        "id": "4xd7kXijzXLu"
      }
    },
    {
      "cell_type": "code",
      "source": [
        "l1 = [1,4]\n",
        "l2 = [2,5]\n",
        "# list concatination\n",
        "l1+l2"
      ],
      "metadata": {
        "colab": {
          "base_uri": "https://localhost:8080/"
        },
        "id": "yEQAHynvzBa4",
        "outputId": "6f512983-5d63-42f2-9f46-bd3d0c16945c"
      },
      "execution_count": 7,
      "outputs": [
        {
          "output_type": "execute_result",
          "data": {
            "text/plain": [
              "[1, 4, 2, 5]"
            ]
          },
          "metadata": {},
          "execution_count": 7
        }
      ]
    },
    {
      "cell_type": "code",
      "source": [
        "l1 = [7,4]\n",
        "\n",
        "# list replication\n",
        "l1*3"
      ],
      "metadata": {
        "colab": {
          "base_uri": "https://localhost:8080/"
        },
        "id": "bh6lRcFL0CHG",
        "outputId": "99c7408c-99e1-4e4f-fa92-1153d1c1250f"
      },
      "execution_count": 8,
      "outputs": [
        {
          "output_type": "execute_result",
          "data": {
            "text/plain": [
              "[7, 4, 7, 4, 7, 4]"
            ]
          },
          "metadata": {},
          "execution_count": 8
        }
      ]
    },
    {
      "cell_type": "markdown",
      "source": [
        "10. What is difference between the list methods append() and insert()?"
      ],
      "metadata": {
        "id": "KYRtS1Wcz-t_"
      }
    },
    {
      "cell_type": "markdown",
      "source": [
        "ans:- append() Appends object to the end of the list\n",
        "insert() Insert object before index"
      ],
      "metadata": {
        "id": "Wk_rPop0z-ep"
      }
    },
    {
      "cell_type": "code",
      "source": [
        "bacon = [3.14, 'cat', 11, 'cat', True]\n",
        "bacon.append(99) # append adds the item at the end of the list\n",
        "bacon"
      ],
      "metadata": {
        "colab": {
          "base_uri": "https://localhost:8080/"
        },
        "id": "geAYVnN7zBeD",
        "outputId": "773f10ba-4148-4b08-da54-e8542a667962"
      },
      "execution_count": 9,
      "outputs": [
        {
          "output_type": "execute_result",
          "data": {
            "text/plain": [
              "[3.14, 'cat', 11, 'cat', True, 99]"
            ]
          },
          "metadata": {},
          "execution_count": 9
        }
      ]
    },
    {
      "cell_type": "code",
      "source": [
        "# solution by inserting value in 3rd index\n",
        "spam = [2, 4, 6, 8, 10]\n",
        "spam.insert(2,'hello')\n",
        "spam\n",
        "     "
      ],
      "metadata": {
        "colab": {
          "base_uri": "https://localhost:8080/"
        },
        "id": "VggYOuFzzBg0",
        "outputId": "d83d283f-4964-49f8-e475-16cbe30400e9"
      },
      "execution_count": 10,
      "outputs": [
        {
          "output_type": "execute_result",
          "data": {
            "text/plain": [
              "[2, 4, 'hello', 6, 8, 10]"
            ]
          },
          "metadata": {},
          "execution_count": 10
        }
      ]
    },
    {
      "cell_type": "markdown",
      "source": [
        "11. What are the two methods for removing items from a list?"
      ],
      "metadata": {
        "id": "t3ipxYlR0VPW"
      }
    },
    {
      "cell_type": "code",
      "source": [
        "#remove(item) - removeds first occurence of a item\n",
        "bacon = [3.14, 'cat', 11, 'cat', True]\n",
        "bacon.remove('cat')\n",
        "bacon"
      ],
      "metadata": {
        "colab": {
          "base_uri": "https://localhost:8080/"
        },
        "id": "3Qbw3M92zBjw",
        "outputId": "c07de9e2-b3d4-4457-c784-819b40fe7cf1"
      },
      "execution_count": 11,
      "outputs": [
        {
          "output_type": "execute_result",
          "data": {
            "text/plain": [
              "[3.14, 11, 'cat', True]"
            ]
          },
          "metadata": {},
          "execution_count": 11
        }
      ]
    },
    {
      "cell_type": "markdown",
      "source": [
        "12. Describe how list values and string values are identical."
      ],
      "metadata": {
        "id": "RiI-R_OC0gAd"
      }
    },
    {
      "cell_type": "markdown",
      "source": [],
      "metadata": {
        "id": "UfxOCSaQ0iCe"
      }
    },
    {
      "cell_type": "markdown",
      "source": [
        "ans:- \n",
        "      1 Both lists and strings can be passed to len()\n",
        "\n",
        "      2 Have indexes and slices\n",
        "\n",
        "      3 Can be used in for loops\n",
        "\n",
        "      4 Can be concatenated or replicated\n",
        "\n",
        "      5 Can be used with the in and not in operators"
      ],
      "metadata": {
        "id": "Sat0RV2r0itO"
      }
    },
    {
      "cell_type": "markdown",
      "source": [
        "13. What's the difference between tuples and lists?"
      ],
      "metadata": {
        "id": "FF5GFEsF1QZ0"
      }
    },
    {
      "cell_type": "markdown",
      "source": [
        "Lists : are mutable - they can have values added, removed, or changed. lists use the square brackets, [ and ]\n",
        "Tuples : are immutable; they cannot be changed at all. Tuples are written using parentheses, ( and )"
      ],
      "metadata": {
        "id": "tdMR_Fao1QMj"
      }
    },
    {
      "cell_type": "markdown",
      "source": [
        "14. How do you type a tuple value that only contains the integer 42?"
      ],
      "metadata": {
        "id": "ZOvYyqPd1ZjM"
      }
    },
    {
      "cell_type": "code",
      "source": [
        "tuple = (42,)\n",
        "tuple\n",
        "     \n"
      ],
      "metadata": {
        "colab": {
          "base_uri": "https://localhost:8080/"
        },
        "id": "OhQD4SnfzBo8",
        "outputId": "4e0cac05-dc11-454e-f9d7-5ddeb69905b0"
      },
      "execution_count": 12,
      "outputs": [
        {
          "output_type": "execute_result",
          "data": {
            "text/plain": [
              "(42,)"
            ]
          },
          "metadata": {},
          "execution_count": 12
        }
      ]
    },
    {
      "cell_type": "markdown",
      "source": [
        "15. How do you get a list value's tuple form? How do you get a tuple value's list form?"
      ],
      "metadata": {
        "id": "0sfeA4Nm1jI6"
      }
    },
    {
      "cell_type": "code",
      "source": [
        "l1 = [2,3]\n",
        "l = list(l1)\n",
        "l"
      ],
      "metadata": {
        "colab": {
          "base_uri": "https://localhost:8080/"
        },
        "id": "qzOGNHAKzBso",
        "outputId": "5743dbac-45db-4e9b-8256-129743461d41"
      },
      "execution_count": 22,
      "outputs": [
        {
          "output_type": "execute_result",
          "data": {
            "text/plain": [
              "[2, 3]"
            ]
          },
          "metadata": {},
          "execution_count": 22
        }
      ]
    },
    {
      "cell_type": "markdown",
      "source": [
        "16. Variables that \"contain\" list values are not necessarily lists themselves. Instead, what do they contain?\n",
        "\n",
        "Ans. They contain references to list values"
      ],
      "metadata": {
        "id": "ZHQri1vh5Hf9"
      }
    },
    {
      "cell_type": "markdown",
      "source": [
        "17. How do you distinguish between copy.copy() and copy.deepcopy()?\n",
        "\n",
        "Ans . The copy.copy() function will do a shallow copy of a list,\n",
        "The copy.deepcopy() function will do a deep copy of a list. only copy.deepcopy() will duplicate any lists inside the list\n",
        "\n"
      ],
      "metadata": {
        "id": "8RdqdUTf5UK8"
      }
    },
    {
      "cell_type": "code",
      "source": [],
      "metadata": {
        "id": "wXWYHsPn5IFq"
      },
      "execution_count": null,
      "outputs": []
    }
  ]
}